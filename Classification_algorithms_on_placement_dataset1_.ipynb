{
  "nbformat": 4,
  "nbformat_minor": 0,
  "metadata": {
    "colab": {
      "name": "Classification algorithms on placement dataset1 .ipynb",
      "provenance": [],
      "include_colab_link": true
    },
    "kernelspec": {
      "name": "python3",
      "display_name": "Python 3"
    },
    "language_info": {
      "name": "python"
    }
  },
  "cells": [
    {
      "cell_type": "markdown",
      "metadata": {
        "id": "view-in-github",
        "colab_type": "text"
      },
      "source": [
        "<a href=\"https://colab.research.google.com/github/muskan-patidar/ML-Lab/blob/main/Classification_algorithms_on_placement_dataset1_.ipynb\" target=\"_parent\"><img src=\"https://colab.research.google.com/assets/colab-badge.svg\" alt=\"Open In Colab\"/></a>"
      ]
    },
    {
      "cell_type": "code",
      "metadata": {
        "id": "pP9Hcx1EKAV8"
      },
      "source": [
        "from sklearn import datasets, linear_model, metrics\n",
        "import csv \n",
        "import numpy as np \n",
        "import matplotlib.pyplot as plt \n",
        "import pandas as pd \n",
        "dataset = pd.read_csv('/content/drive/MyDrive/Placement_Data_Full_Class (1).csv')  \n",
        "dataset=np.array(dataset) "
      ],
      "execution_count": 14,
      "outputs": []
    },
    {
      "cell_type": "code",
      "metadata": {
        "id": "lKbGfjp4LIDv",
        "colab": {
          "base_uri": "https://localhost:8080/"
        },
        "outputId": "ab6abb7a-9d0a-4ad7-f106-a2b00ed58981"
      },
      "source": [
        "from google.colab import drive\n",
        "drive.mount('/content/drive')"
      ],
      "execution_count": 15,
      "outputs": [
        {
          "output_type": "stream",
          "text": [
            "Drive already mounted at /content/drive; to attempt to forcibly remount, call drive.mount(\"/content/drive\", force_remount=True).\n"
          ],
          "name": "stdout"
        }
      ]
    },
    {
      "cell_type": "code",
      "metadata": {
        "id": "p_aU1By_KHBs"
      },
      "source": [
        "from sklearn import datasets\n",
        "dataset = datasets.load_iris()\n",
        "features=dataset.data\n",
        "label=dataset.target"
      ],
      "execution_count": 16,
      "outputs": []
    },
    {
      "cell_type": "code",
      "metadata": {
        "id": "BS1u6G6fnN8N"
      },
      "source": [
        "from sklearn.model_selection import train_test_split\n",
        "X_train,X_test,Y_train,Y_test=train_test_split(features,label,test_size=0.5)"
      ],
      "execution_count": 17,
      "outputs": []
    },
    {
      "cell_type": "code",
      "metadata": {
        "id": "fsF-jtSaKdSj",
        "colab": {
          "base_uri": "https://localhost:8080/"
        },
        "outputId": "d65c42bf-258d-4cc6-9c89-d2a4aedfbbaf"
      },
      "source": [
        "\n",
        "\n",
        "#LOGISTIC REGRESSION\n",
        "from sklearn.linear_model import LogisticRegression\n",
        "model=LogisticRegression()\n",
        "\n",
        "#K-NEAREST NEIGHBORS(KNN)\n",
        "#from sklearn.neighbors import KNeighborsClassifier\n",
        "#model=KNeighborsClassifier()\n",
        "\n",
        "#NAIVE BAYES\n",
        "#from sklearn.naive_bayes import GaussianNB\n",
        "#model=GaussianNB()\n",
        "\n",
        "model.fit(X_train,Y_train)\n",
        "y_ans=model.predict(X_test)\n",
        "\n",
        "model.score(X_test,Y_test)"
      ],
      "execution_count": 18,
      "outputs": [
        {
          "output_type": "execute_result",
          "data": {
            "text/plain": [
              "0.96"
            ]
          },
          "metadata": {
            "tags": []
          },
          "execution_count": 18
        }
      ]
    },
    {
      "cell_type": "code",
      "metadata": {
        "colab": {
          "base_uri": "https://localhost:8080/"
        },
        "id": "IoGuSoX4LrkP",
        "outputId": "49960f1f-f010-4156-e9a1-7551f89ddef7"
      },
      "source": [
        "\n",
        "\n",
        "#LOGISTIC REGRESSION\n",
        "#from sklearn.linear_model import LogisticRegression\n",
        "#model=LogisticRegression()\n",
        "\n",
        "#K-NEAREST NEIGHBORS(KNN)\n",
        "from sklearn.neighbors import KNeighborsClassifier\n",
        "model=KNeighborsClassifier()\n",
        "\n",
        "#NAIVE BAYES\n",
        "#from sklearn.naive_bayes import GaussianNB\n",
        "#model=GaussianNB()\n",
        "\n",
        "model.fit(X_train,Y_train)\n",
        "y_ans=model.predict(X_test)\n",
        "\n",
        "model.score(X_test,Y_test)"
      ],
      "execution_count": 19,
      "outputs": [
        {
          "output_type": "execute_result",
          "data": {
            "text/plain": [
              "0.9466666666666667"
            ]
          },
          "metadata": {
            "tags": []
          },
          "execution_count": 19
        }
      ]
    },
    {
      "cell_type": "code",
      "metadata": {
        "colab": {
          "base_uri": "https://localhost:8080/"
        },
        "id": "NKgzwCtBLzlX",
        "outputId": "92834ea7-dc46-4722-f48b-b9b28bc02dc9"
      },
      "source": [
        "\n",
        "\n",
        "#LOGISTIC REGRESSION\n",
        "#from sklearn.linear_model import LogisticRegression\n",
        "#model=LogisticRegression()\n",
        "\n",
        "#K-NEAREST NEIGHBORS(KNN)\n",
        "#from sklearn.neighbors import KNeighborsClassifier\n",
        "#model=KNeighborsClassifier()\n",
        "\n",
        "#NAIVE BAYES\n",
        "from sklearn.naive_bayes import GaussianNB\n",
        "model=GaussianNB()\n",
        "\n",
        "model.fit(X_train,Y_train)\n",
        "y_ans=model.predict(X_test)\n",
        "\n",
        "model.score(X_test,Y_test)"
      ],
      "execution_count": 20,
      "outputs": [
        {
          "output_type": "execute_result",
          "data": {
            "text/plain": [
              "0.9466666666666667"
            ]
          },
          "metadata": {
            "tags": []
          },
          "execution_count": 20
        }
      ]
    }
  ]
}